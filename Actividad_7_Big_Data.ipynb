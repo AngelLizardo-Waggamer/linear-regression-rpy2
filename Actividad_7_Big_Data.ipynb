{
  "nbformat": 4,
  "nbformat_minor": 0,
  "metadata": {
    "colab": {
      "provenance": [],
      "include_colab_link": true
    },
    "kernelspec": {
      "name": "python3",
      "display_name": "Python 3"
    },
    "language_info": {
      "name": "python"
    }
  },
  "cells": [
    {
      "cell_type": "markdown",
      "metadata": {
        "id": "view-in-github",
        "colab_type": "text"
      },
      "source": [
        "<a href=\"https://colab.research.google.com/github/AngelLizardo-Waggamer/linear-regression-rpy2/blob/main/Actividad_7_Big_Data.ipynb\" target=\"_parent\"><img src=\"https://colab.research.google.com/assets/colab-badge.svg\" alt=\"Open In Colab\"/></a>"
      ]
    },
    {
      "cell_type": "markdown",
      "source": [
        "Instalar dependencias (de ser necesario)\n"
      ],
      "metadata": {
        "id": "AkC9KW7AzodX"
      }
    },
    {
      "cell_type": "code",
      "execution_count": 11,
      "metadata": {
        "colab": {
          "base_uri": "https://localhost:8080/"
        },
        "collapsed": true,
        "id": "cpAEr80IpZGl",
        "outputId": "b53b64ba-db7d-479f-e3c6-e487294ab4af"
      },
      "outputs": [
        {
          "output_type": "stream",
          "name": "stdout",
          "text": [
            "Requirement already satisfied: rpy2 in /usr/local/lib/python3.11/dist-packages (3.5.17)\n",
            "Requirement already satisfied: cffi>=1.15.1 in /usr/local/lib/python3.11/dist-packages (from rpy2) (1.17.1)\n",
            "Requirement already satisfied: jinja2 in /usr/local/lib/python3.11/dist-packages (from rpy2) (3.1.6)\n",
            "Requirement already satisfied: tzlocal in /usr/local/lib/python3.11/dist-packages (from rpy2) (5.3.1)\n",
            "Requirement already satisfied: pycparser in /usr/local/lib/python3.11/dist-packages (from cffi>=1.15.1->rpy2) (2.22)\n",
            "Requirement already satisfied: MarkupSafe>=2.0 in /usr/local/lib/python3.11/dist-packages (from jinja2->rpy2) (3.0.2)\n"
          ]
        }
      ],
      "source": [
        "# Instalar librería Rpy2 (si no está instalada)\n",
        "!pip install rpy2"
      ]
    },
    {
      "cell_type": "code",
      "source": [
        "# Esta es una dependencia de ggplot\n",
        "!R -e \"install.packages('lazyeval', repos='http://cran.rstudio.com/')\""
      ],
      "metadata": {
        "collapsed": true,
        "colab": {
          "base_uri": "https://localhost:8080/"
        },
        "id": "fdzvpS5KogUm",
        "outputId": "ccd0db3a-b155-4293-f3f0-39ee9c7264c1"
      },
      "execution_count": 12,
      "outputs": [
        {
          "output_type": "stream",
          "name": "stdout",
          "text": [
            "\n",
            "R version 4.4.3 (2025-02-28) -- \"Trophy Case\"\n",
            "Copyright (C) 2025 The R Foundation for Statistical Computing\n",
            "Platform: x86_64-pc-linux-gnu\n",
            "\n",
            "R is free software and comes with ABSOLUTELY NO WARRANTY.\n",
            "You are welcome to redistribute it under certain conditions.\n",
            "Type 'license()' or 'licence()' for distribution details.\n",
            "\n",
            "  Natural language support but running in an English locale\n",
            "\n",
            "R is a collaborative project with many contributors.\n",
            "Type 'contributors()' for more information and\n",
            "'citation()' on how to cite R or R packages in publications.\n",
            "\n",
            "Type 'demo()' for some demos, 'help()' for on-line help, or\n",
            "'help.start()' for an HTML browser interface to help.\n",
            "Type 'q()' to quit R.\n",
            "\n",
            "> install.packages('lazyeval', repos='http://cran.rstudio.com/')\n",
            "Installing package into ‘/usr/local/lib/R/site-library’\n",
            "(as ‘lib’ is unspecified)\n",
            "trying URL 'http://cran.rstudio.com/src/contrib/lazyeval_0.2.2.tar.gz'\n",
            "Content type 'application/x-gzip' length 83482 bytes (81 KB)\n",
            "==================================================\n",
            "downloaded 81 KB\n",
            "\n",
            "* installing *source* package ‘lazyeval’ ...\n",
            "** package ‘lazyeval’ successfully unpacked and MD5 sums checked\n",
            "** using staged installation\n",
            "** libs\n",
            "using C compiler: ‘gcc (Ubuntu 11.4.0-1ubuntu1~22.04) 11.4.0’\n",
            "gcc -I\"/usr/share/R/include\" -DNDEBUG       -fpic  -g -O2 -ffile-prefix-map=/build/r-base-JpkSDg/r-base-4.4.3=. -fstack-protector-strong -Wformat -Werror=format-security -Wdate-time -D_FORTIFY_SOURCE=2  -c expr.c -o expr.o\n",
            "gcc -I\"/usr/share/R/include\" -DNDEBUG       -fpic  -g -O2 -ffile-prefix-map=/build/r-base-JpkSDg/r-base-4.4.3=. -fstack-protector-strong -Wformat -Werror=format-security -Wdate-time -D_FORTIFY_SOURCE=2  -c init.c -o init.o\n",
            "gcc -I\"/usr/share/R/include\" -DNDEBUG       -fpic  -g -O2 -ffile-prefix-map=/build/r-base-JpkSDg/r-base-4.4.3=. -fstack-protector-strong -Wformat -Werror=format-security -Wdate-time -D_FORTIFY_SOURCE=2  -c interp.c -o interp.o\n",
            "gcc -I\"/usr/share/R/include\" -DNDEBUG       -fpic  -g -O2 -ffile-prefix-map=/build/r-base-JpkSDg/r-base-4.4.3=. -fstack-protector-strong -Wformat -Werror=format-security -Wdate-time -D_FORTIFY_SOURCE=2  -c lazy.c -o lazy.o\n",
            "gcc -I\"/usr/share/R/include\" -DNDEBUG       -fpic  -g -O2 -ffile-prefix-map=/build/r-base-JpkSDg/r-base-4.4.3=. -fstack-protector-strong -Wformat -Werror=format-security -Wdate-time -D_FORTIFY_SOURCE=2  -c name.c -o name.o\n",
            "gcc -I\"/usr/share/R/include\" -DNDEBUG       -fpic  -g -O2 -ffile-prefix-map=/build/r-base-JpkSDg/r-base-4.4.3=. -fstack-protector-strong -Wformat -Werror=format-security -Wdate-time -D_FORTIFY_SOURCE=2  -c utils.c -o utils.o\n",
            "gcc -shared -L/usr/lib/R/lib -Wl,-Bsymbolic-functions -flto=auto -ffat-lto-objects -flto=auto -Wl,-z,relro -o lazyeval.so expr.o init.o interp.o lazy.o name.o utils.o -L/usr/lib/R/lib -lR\n",
            "installing to /usr/local/lib/R/site-library/00LOCK-lazyeval/00new/lazyeval/libs\n",
            "** R\n",
            "** inst\n",
            "** byte-compile and prepare package for lazy loading\n",
            "** help\n",
            "*** installing help indices\n",
            "** building package indices\n",
            "** installing vignettes\n",
            "** testing if installed package can be loaded from temporary location\n",
            "** checking absolute paths in shared objects and dynamic libraries\n",
            "** testing if installed package can be loaded from final location\n",
            "** testing if installed package keeps a record of temporary installation path\n",
            "* DONE (lazyeval)\n",
            "\n",
            "The downloaded source packages are in\n",
            "\t‘/tmp/RtmpNMtnaa/downloaded_packages’\n",
            "> \n",
            "> \n"
          ]
        }
      ]
    },
    {
      "cell_type": "markdown",
      "source": [
        "Importar librerías"
      ],
      "metadata": {
        "id": "J6vWebW0ps-u"
      }
    },
    {
      "cell_type": "code",
      "source": [
        "# Sección uno\n",
        "from rpy2.robjects.packages import importr\n",
        "utils = importr('utils')\n",
        "stats = importr('stats')"
      ],
      "metadata": {
        "id": "GGuZvewF1tc6"
      },
      "execution_count": 63,
      "outputs": []
    },
    {
      "cell_type": "code",
      "source": [
        "# Sección dos\n",
        "import rpy2.robjects.lib.ggplot2 as gp\n",
        "from rpy2.robjects import Formula, rl\n",
        "from rpy2.ipython.ggplot import image_png"
      ],
      "metadata": {
        "id": "aDC-WxmxpuoQ"
      },
      "execution_count": 64,
      "outputs": []
    },
    {
      "cell_type": "markdown",
      "source": [
        "Directorio del archivo .csv"
      ],
      "metadata": {
        "id": "Vp4Sl18eqPVe"
      }
    },
    {
      "cell_type": "code",
      "source": [
        "path_archivo = \"./publicidad_ganancias.csv\""
      ],
      "metadata": {
        "id": "clozOIKnqSmo"
      },
      "execution_count": 22,
      "outputs": []
    },
    {
      "cell_type": "markdown",
      "source": [
        "Generar una variable con los datos en R"
      ],
      "metadata": {
        "id": "Rd-rqIWNx2v4"
      }
    },
    {
      "cell_type": "code",
      "source": [
        "datos = utils.read_csv(path_archivo)"
      ],
      "metadata": {
        "id": "9N3eGls7p_Dl"
      },
      "execution_count": 23,
      "outputs": []
    },
    {
      "cell_type": "markdown",
      "source": [
        "Generar el modelo"
      ],
      "metadata": {
        "id": "-poJA8aFx8g9"
      }
    },
    {
      "cell_type": "code",
      "source": [
        "fmla = Formula('ganancias ~ gasto_publicidad')\n",
        "env = fmla.environment\n",
        "env['gasto_publicidad'] = datos.rx2(2)\n",
        "env['ganancias'] = datos.rx2(3)\n",
        "\n",
        "regresion = stats.lm(fmla)"
      ],
      "metadata": {
        "id": "OyqnQD07rKX2"
      },
      "execution_count": 37,
      "outputs": []
    },
    {
      "cell_type": "markdown",
      "source": [
        "Mostrar los coeficientes calculados"
      ],
      "metadata": {
        "id": "Ri2CAoEryCGX"
      }
    },
    {
      "cell_type": "code",
      "source": [
        "print(stats.coef(regresion))"
      ],
      "metadata": {
        "colab": {
          "base_uri": "https://localhost:8080/"
        },
        "id": "gKN7Xefwt6CC",
        "outputId": "f68905f4-125b-45bc-c831-ed5bf6709b81"
      },
      "execution_count": 38,
      "outputs": [
        {
          "output_type": "stream",
          "name": "stdout",
          "text": [
            "     (Intercept) gasto_publicidad \n",
            "    2.024177e+04     2.280726e-01 \n",
            "\n"
          ]
        }
      ]
    },
    {
      "cell_type": "markdown",
      "source": [
        "#Caso 2\n",
        "Mostrar un gráfico de dispersión del modelo"
      ],
      "metadata": {
        "id": "Ltea7YBc2tpH"
      }
    },
    {
      "cell_type": "code",
      "source": [
        "grafico = (gp.ggplot(datos)\n",
        "+ gp.aes(\n",
        "    x = rl('gasto_publicidad'),\n",
        "    y = rl('ganancias'),\n",
        ")\n",
        "+ gp.geom_point(color = \"blue\")\n",
        "+ gp.geom_smooth(method=\"lm\", color = \"red\")\n",
        "+ gp.ggtitle('Modelo de regresión')\n",
        "+ gp.xlab('Gasto en publicidad')\n",
        "+ gp.ylab('Ganancias')\n",
        "+ gp.theme_light(base_size=16))\n",
        "\n",
        "image_png(grafico)"
      ],
      "metadata": {
        "colab": {
          "base_uri": "https://localhost:8080/",
          "height": 434
        },
        "id": "rvU8dlcGpV83",
        "outputId": "f6431488-77eb-4cdd-bacf-99a77ec87aea"
      },
      "execution_count": 61,
      "outputs": [
        {
          "output_type": "stream",
          "name": "stdout",
          "text": [
            "`geom_smooth()` using formula = 'y ~ x'\n"
          ]
        },
        {
          "output_type": "execute_result",
          "data": {
            "image/png": "[encoded data removed]",
            "text/plain": [
              "<IPython.core.display.Image object>"
            ]
          },
          "metadata": {},
          "execution_count": 61
        }
      ]
    }
  ]
}